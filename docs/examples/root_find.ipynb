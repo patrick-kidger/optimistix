{
 "cells": [
  {
   "cell_type": "markdown",
   "id": "ee7b64bc-da8d-4bbc-ab56-2fa5325eea7e",
   "metadata": {},
   "source": [
    "# Starting example\n",
    "\n",
    "## Introduction\n",
    "\n",
    "Here's a simple example, showing the basic API for performing a root find. (Minimisation, least squares, and fixed points all have very similar APIs.)"
   ]
  },
  {
   "cell_type": "code",
   "execution_count": 1,
   "id": "8637a698-c783-4530-b5bf-8746db5584d8",
   "metadata": {},
   "outputs": [],
   "source": [
    "import jax\n",
    "import jax.numpy as jnp\n",
    "import optimistix as optx\n",
    "\n",
    "\n",
    "# Often import when doing scientific work\n",
    "jax.config.update(\"jax_enable_x64\", True)\n",
    "\n",
    "\n",
    "def fn(y, args):\n",
    "    a, b = y\n",
    "    c = jnp.tanh(jnp.sum(b)) - a\n",
    "    d = a**2 - jnp.sinh(b + 1)\n",
    "    return c, d\n",
    "\n",
    "\n",
    "solver = optx.Newton(rtol=1e-8, atol=1e-8)\n",
    "y0 = (jnp.array(0.0), jnp.zeros((2, 2)))\n",
    "sol = optx.root_find(fn, solver, y0)"
   ]
  },
  {
   "cell_type": "markdown",
   "id": "e2f278bf-e0dd-4248-8e19-e60046a6d7d4",
   "metadata": {},
   "source": [
    "This has the following solution:"
   ]
  },
  {
   "cell_type": "code",
   "execution_count": 2,
   "id": "0dfd6a2c-05cf-48c6-97d3-fbfeefce66c4",
   "metadata": {},
   "outputs": [
    {
     "name": "stdout",
     "output_type": "stream",
     "text": [
      "(Array(-0.85650715, dtype=float64), Array([[-0.32002086, -0.32002086],\n",
      "       [-0.32002086, -0.32002086]], dtype=float64))\n"
     ]
    }
   ],
   "source": [
    "print(sol.value)"
   ]
  },
  {
   "cell_type": "markdown",
   "id": "76a74a3c-3344-4a5f-8ddd-6ae5b1d1f81f",
   "metadata": {},
   "source": [
    "Which is indeed a root of `fn`:"
   ]
  },
  {
   "cell_type": "code",
   "execution_count": 3,
   "id": "03ff4b6f-1848-45bb-b8d6-4a1df44e6259",
   "metadata": {},
   "outputs": [
    {
     "name": "stdout",
     "output_type": "stream",
     "text": [
      "(Array(0., dtype=float64), Array([[1.11022302e-16, 1.11022302e-16],\n",
      "       [1.11022302e-16, 1.11022302e-16]], dtype=float64))\n"
     ]
    }
   ],
   "source": [
    "print(fn(sol.value, args=None))"
   ]
  },
  {
   "cell_type": "markdown",
   "id": "0dbf112a-0608-4858-897b-edda54b08b9c",
   "metadata": {},
   "source": [
    "## Handling errors\n",
    "\n",
    "Especially on tricker or mispecified problems, it may happen that the optimisation will fail. If Optimistix is unable to find the solution to a problem, it will produce an error, like so:"
   ]
  },
  {
   "cell_type": "code",
   "execution_count": 4,
   "id": "7c721130-e3cd-41bb-a327-3470ce014c91",
   "metadata": {},
   "outputs": [
    {
     "ename": "XlaRuntimeError",
     "evalue": "The linear solver returned non-finite (NaN or inf) output. This usually means that the\noperator was not well-posed, and that the solver does not support this.\n\nIf you are trying solve a linear least-squares problem then you should pass\n`solver=AutoLinearSolver(well_posed=False)`. By default `lineax.linear_solve`\nassumes that the operator is square and nonsingular.\n\nIf you *were* expecting this solver to work with this operator, then it may be because:\n\n(a) the operator is singular, and your code has a bug; or\n\n(b) the operator was nearly singular (i.e. it had a high condition number:\n    `jnp.linalg.cond(operator.as_matrix())` is large), and the solver suffered from\n    numerical instability issues; or\n\n(c) the operator is declared to exhibit a certain property (e.g. positive definiteness)\n    that is does not actually satisfy.\n-------\nThis error occurred during the runtime of your JAX program. Setting the environment\nvariable `EQX_ON_ERROR=breakpoint` is usually the most useful way to debug such errors.\n(This can be navigated using most of the the usual commands for the Python debugger:\n`u` and `d` to move through stack frames, the name of a variable to print its value,\netc.) See also `https://docs.kidger.site/equinox/api/errors/#equinox.error_if` for more\ninformation.\n",
     "output_type": "error",
     "traceback": [
      "\u001b[0;31m---------------------------------------------------------------------------\u001b[0m",
      "\u001b[0;31mXlaRuntimeError\u001b[0m                           Traceback (most recent call last)",
      "Cell \u001b[0;32mIn[4], line 6\u001b[0m\n\u001b[1;32m      3\u001b[0m     \u001b[38;5;28;01mreturn\u001b[39;00m \u001b[38;5;241m1\u001b[39m \u001b[38;5;241m+\u001b[39m y\u001b[38;5;241m*\u001b[39m\u001b[38;5;241m*\u001b[39m\u001b[38;5;241m2\u001b[39m\n\u001b[1;32m      5\u001b[0m y0 \u001b[38;5;241m=\u001b[39m jnp\u001b[38;5;241m.\u001b[39marray(\u001b[38;5;241m1.\u001b[39m)\n\u001b[0;32m----> 6\u001b[0m \u001b[43moptx\u001b[49m\u001b[38;5;241;43m.\u001b[39;49m\u001b[43mroot_find\u001b[49m\u001b[43m(\u001b[49m\u001b[43mdoes_not_have_root\u001b[49m\u001b[43m,\u001b[49m\u001b[43m \u001b[49m\u001b[43msolver\u001b[49m\u001b[43m,\u001b[49m\u001b[43m \u001b[49m\u001b[43my0\u001b[49m\u001b[43m)\u001b[49m\n",
      "\u001b[0;31mXlaRuntimeError\u001b[0m: The linear solver returned non-finite (NaN or inf) output. This usually means that the\noperator was not well-posed, and that the solver does not support this.\n\nIf you are trying solve a linear least-squares problem then you should pass\n`solver=AutoLinearSolver(well_posed=False)`. By default `lineax.linear_solve`\nassumes that the operator is square and nonsingular.\n\nIf you *were* expecting this solver to work with this operator, then it may be because:\n\n(a) the operator is singular, and your code has a bug; or\n\n(b) the operator was nearly singular (i.e. it had a high condition number:\n    `jnp.linalg.cond(operator.as_matrix())` is large), and the solver suffered from\n    numerical instability issues; or\n\n(c) the operator is declared to exhibit a certain property (e.g. positive definiteness)\n    that is does not actually satisfy.\n-------\nThis error occurred during the runtime of your JAX program. Setting the environment\nvariable `EQX_ON_ERROR=breakpoint` is usually the most useful way to debug such errors.\n(This can be navigated using most of the the usual commands for the Python debugger:\n`u` and `d` to move through stack frames, the name of a variable to print its value,\netc.) See also `https://docs.kidger.site/equinox/api/errors/#equinox.error_if` for more\ninformation.\n"
     ]
    }
   ],
   "source": [
    "def does_not_have_root(y, _):\n",
    "    # there is no value of y for which this equals zero.\n",
    "    return 1 + y**2\n",
    "\n",
    "\n",
    "y0 = jnp.array(1.0)\n",
    "optx.root_find(does_not_have_root, solver, y0)"
   ]
  },
  {
   "cell_type": "markdown",
   "id": "93303b90-b19b-46f0-9ca6-ea6962855501",
   "metadata": {},
   "source": [
    "If this happens, don't panic! It might be that your problem is misspecified (like here). Or it might be that you need to try a different solver -- some solvers are designed to get ultra-fast convergence on relatively \"nice\" problems, but don't try to handle messier problems. See the [how to choose a solver](../how-to-choose.md) for more details.\n",
    "\n",
    "(For the advanced user: in this case the precise error message reflects the fact that the solver will have descended to `y=0`, and then found that the Jacobian `d does_not_have_root / dy` is zero at that point, so it cannot solve the linear system described by the Newton step.)\n",
    "\n",
    "If you want to handle this error as part of your JAX program (instead of surfacing it as a Python exception), then you can pass `sol = optx.root_find(..., throw=False)`, and then access `sol.result` to check the success or failure of the solve."
   ]
  }
 ],
 "metadata": {
  "kernelspec": {
   "display_name": "py311",
   "language": "python",
   "name": "py311"
  },
  "language_info": {
   "codemirror_mode": {
    "name": "ipython",
    "version": 3
   },
   "file_extension": ".py",
   "mimetype": "text/x-python",
   "name": "python",
   "nbconvert_exporter": "python",
   "pygments_lexer": "ipython3",
   "version": "3.11.3"
  }
 },
 "nbformat": 4,
 "nbformat_minor": 5
}
