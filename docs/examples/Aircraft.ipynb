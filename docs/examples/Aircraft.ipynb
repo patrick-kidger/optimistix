{
 "cells": [
  {
   "cell_type": "markdown",
   "metadata": {},
   "source": [
    "# Optimise the trim of an aircraft\n",
    "\n",
    "This is a benchmark problem that originally appeared in ...\n",
    "\n",
    "https://www.osti.gov/biblio/6449249"
   ]
  },
  {
   "cell_type": "markdown",
   "metadata": {},
   "source": [
    "<img src=\"../../imgs/glider.jpg\" alt=\"A glider in the french alps.\" width=\"600\" height=\"400\">"
   ]
  },
  {
   "cell_type": "markdown",
   "metadata": {},
   "source": [
    "Very important! Tutorial with trajectory optimisation problems.\n",
    "\n",
    "https://vanderbei.princeton.edu/tex/trajopt/trajopt.pdf"
   ]
  },
  {
   "cell_type": "code",
   "execution_count": 1,
   "metadata": {},
   "outputs": [],
   "source": [
    "# https://vanderbei.princeton.edu/ampl/nlmodels/cute/aircrftb.mod\n",
    "# https://vanderbei.princeton.edu/ampl/nlmodels//cute/\n",
    "\n",
    "# This is the AIRCRAFTB problem, where the constraints have been eliminated by fixing\n",
    "# the last three variables. This can be solved as either a minimisation problem or a\n",
    "# least squares problem. It makese sense to reformulate this to make the three control\n",
    "# variables simply arguments, instead of elements of y, and then we can solve this with\n",
    "# LM or so.\n",
    "# It would actually be good to do this in this notebook, as an illustration of this\n",
    "# principle. And it would also be good to show that this can be solved in an overblown\n",
    "# way with an IPOPTLike solver that handles the equality constraints.\n",
    "# But to test the IPOPT descent, it is not actually a good problem.\n",
    "\n",
    "# # AMPL Model by Hande Y. Benson\n",
    "# #\n",
    "# # Copyright (C) 2001 Princeton University\n",
    "# # All Rights Reserved\n",
    "# #\n",
    "# # Permission to use, copy, modify, and distribute this software and\n",
    "# # its documentation for any purpose and without fee is hereby\n",
    "# # granted, provided that the above copyright notice appear in all\n",
    "# # copies and that the copyright notice and this\n",
    "# # permission notice appear in all supporting documentation.\n",
    "\n",
    "# #   Source: problem 9 in\n",
    "# #   J.J. More',\"A collection of nonlinear model problems\"\n",
    "# #   Proceedings of the AMS-SIAM Summer Seminar on the Computational\n",
    "# #   Solution of Nonlinear Systems of Equations, Colorado, 1988.\n",
    "# #   Argonne National Laboratory MCS-P60-0289, 1989.\n",
    "\n",
    "# #   SIF input: Ph. Toint, Dec 1989.\n",
    "\n",
    "# #   classification SXR2-RN-8-0\n",
    "\n",
    "# param m;\n",
    "# param n;\n",
    "\n",
    "# set N := 1..n;\n",
    "# set M := 1..m;\n",
    "\n",
    "# param A{M,N};\n",
    "# var X{N};\n",
    "# var AX{i in M} = sum{j in N} (A[i,j]*X[j]);\n",
    "\n",
    "# var P1=(-0.727*X[2]*X[3])+(8.39*X[3]*X[4])-(684.4*X[4]*X[5])+(63.5*X[4]*X[2]);\n",
    "# var P2 = (0.949*X[1]*X[3])+(0.173*X[1]*X[5]);\n",
    "# var P3 = (-0.716*X[1]*X[2])-(1.578*X[1]*X[4])+(1.132*X[4]*X[2]);\n",
    "# var P4 = -1*X[1]*X[5];\n",
    "# var P5 = X[1]*X[4];\n",
    "\n",
    "# minimize L2force:\n",
    "# \t(AX[1]+P1)^2 +(AX[2]+P2)^2+(AX[3]+P3)^2+(AX[4]+P4)^2+(AX[5]+P5)^2;\n",
    "\n",
    "# subject to elevator:\n",
    "# \tX[6] = -0.05;\n",
    "\n",
    "# subject to aileron:\n",
    "# \tX[7] = 0.1;\n",
    "\n",
    "# subject to rudder:\n",
    "# \tX[8] = 0.0;\n",
    "\n",
    "# data;\n",
    "# param m := 5;\n",
    "# param n := 8;\n",
    "\n",
    "# param A:\n",
    "# \t1\t2\t3\t4\t5\t6\t7\t8:=\n",
    "# 1\t-3.933\t0.107\t0.126\t0\t-9.99\t0\t-45.83\t-7.64\n",
    "# 2\t0\t-0.987\t0\t-22.95\t0\t-28.37\t0\t0\n",
    "# 3\t0.002\t0\t-0.235\t0\t5.67\t0\t-0.921\t-6.51\n",
    "# 4\t0\t1.0\t0\t-1.0\t0\t-0.168\t0\t0\n",
    "# 5\t0\t0\t-1.0\t0\t-0.196\t0\t-0.0071\t0;\n",
    "\n",
    "# var X =\n",
    "# 1 0\n",
    "# 2 0\n",
    "# 3 0\n",
    "# 4 0\n",
    "# 5 0\n",
    "# 6 -0.05\n",
    "# 7 0.1\n",
    "# 8 0.0;\n",
    "\n",
    "\n",
    "# solve;\n",
    "\n",
    "# display X;"
   ]
  },
  {
   "cell_type": "code",
   "execution_count": null,
   "metadata": {},
   "outputs": [],
   "source": [
    "# This problem could be solved more efficiently by doing a root find on the constraint\n",
    "# functions, and setting the fixed variables as arguments to the new function.\n",
    "# This seems like a much cleaner approach.\n",
    "\n",
    "# # AMPL Model by Hande Y. Benson\n",
    "# #\n",
    "# # Copyright (C) 2001 Princeton University\n",
    "# # All Rights Reserved\n",
    "# #\n",
    "# # Permission to use, copy, modify, and distribute this software and\n",
    "# # its documentation for any purpose and without fee is hereby\n",
    "# # granted, provided that the above copyright notice appear in all\n",
    "# # copies and that the copyright notice and this\n",
    "# # permission notice appear in all supporting documentation.\n",
    "\n",
    "# #   Source: Problem 9 in\n",
    "# #   J.J. More',\"A collection of nonlinear model problems\"\n",
    "# #   Proceedings of the AMS-SIAM Summer Seminar on the Computational\n",
    "# #   Solution of Nonlinear Systems of Equations, Colorado, 1988.\n",
    "# #   Argonne National Laboratory MCS-P60-0289, 1989.\n",
    "\n",
    "# #   SIF input: Ph. Toint, Dec 1989.\n",
    "\n",
    "# #   classification NOR2-RN-8-5\n",
    "\n",
    "# var rollrate := 0.0;\n",
    "# var pitchrat := 0.0;\n",
    "# var yawrate := 0.0;\n",
    "# var attckang := 0.0;\n",
    "# var sslipang := 0.0;\n",
    "# var elevator := 0.0;\n",
    "# var aileron := 0.0;\n",
    "# var rudderdf := 0.0;\n",
    "\n",
    "# minimize f: 0;\n",
    "\n",
    "# subject to cons1:\n",
    "# (-3.933*rollrate+0.107*pitchrat+0.126*yawrate-9.99*sslipang-45.83*aileron\n",
    "#   -7.64*rudderdf-0.727*pitchrat*yawrate+\n",
    "# 8.39*yawrate*attckang-684.4*attckang*sslipang+63.5*pitchrat*attckang) = 0;\n",
    "# subject to cons2:\n",
    "# (-0.987*pitchrat-22.95*attckang-28.37*elevator+0.949*rollrate*yawrate\n",
    "#   +0.173*rollrate*sslipang) = 0;\n",
    "# subject to cons3:\n",
    "# (0.002*rollrate-0.235*yawrate+5.67*sslipang-0.921*aileron-6.51*rudderdf\n",
    "#   -0.716*rollrate*pitchrat-1.578*rollrate*attckang+1.132*pitchrat*attckang) = 0;\n",
    "# subject to cons4:\n",
    "# (pitchrat- attckang-1.168*elevator-rollrate*sslipang) = 0;\n",
    "# subject to cons5:\n",
    "# (-yawrate-0.196*sslipang-0.0071*aileron+rollrate*attckang) = 0;\n",
    "\n",
    "# fix elevator := 0.1;\n",
    "# fix aileron := 0.0;\n",
    "# fix rudderdf := 0.0;\n",
    "\n",
    "# solve;\n",
    "# display f;\n",
    "# display rollrate, pitchrat, yawrate, attckang, sslipang, elevator, aileron, rudderdf;"
   ]
  },
  {
   "cell_type": "code",
   "execution_count": 3,
   "metadata": {},
   "outputs": [],
   "source": [
    "import equinox.internal as eqxi\n",
    "import jax\n",
    "import jax.numpy as jnp\n",
    "import jax.tree_util as jtu\n",
    "import lineax as lx\n",
    "import matplotlib.pyplot as plt\n",
    "import pandas as pd\n",
    "\n",
    "\n",
    "jax.config.update(\"jax_enable_x64\", True)"
   ]
  },
  {
   "cell_type": "code",
   "execution_count": 4,
   "metadata": {},
   "outputs": [],
   "source": [
    "linear_terms = jnp.array(\n",
    "    [\n",
    "        [-3.933, 0.107, 0.126, 0, -9.99, 0, -45.83, -7.64],\n",
    "        [0, -0.987, 0.0, -22.95, 0.0, -28.37, 0.0, 0.0],\n",
    "        [0.002, 0, -0.235, 0.0, 5.67, 0.0, -0.921, -6.51],\n",
    "        [0, 1.0, 0, -1.0, 0, -0.168, 0, 0],\n",
    "        [0, 0, -1.0, 0, -0.196, 0, -0.0071, 0],\n",
    "    ]\n",
    ")\n",
    "\n",
    "\n",
    "def aircraftb(y, linear_terms):\n",
    "    \"\"\"Computes the objective function for the aircraft problem. This is a sum of\n",
    "    squares, which are composed of linear and nonlinear terms. We keep the linear terms\n",
    "    in a matrix, and pass it as an argument to this function. The nonlinear terms are\n",
    "    computed below.\n",
    "    \"\"\"\n",
    "\n",
    "    # Calculate the P terms\n",
    "    x1, x2, x3, x4, x5, *_ = y\n",
    "    p1 = (-0.727 * x1 * x2) + (8.39 * x3 * x4) - (684.4 * x4 * x5) + (63.5 * x4 * x2)\n",
    "    p2 = (0.949 * x1 * x3) + (0.173 * x1 * x5)\n",
    "    p3 = (-0.716 * x1 * x2) - (1.578 * x1 * x4) + (1.132 * x4 * x2)\n",
    "    p4 = -1 * x1 * x5\n",
    "    p5 = x1 * x4\n",
    "    ps = jnp.array([p1, p2, p3, p4, p5])\n",
    "\n",
    "    squares = (linear_terms @ y + ps) ** 2\n",
    "    return 0.001 * jnp.sum(squares)\n",
    "\n",
    "\n",
    "def constraintb(y):\n",
    "    \"\"\"Defines fixed values for the elevator, aileron, and rudder. All constraints are\n",
    "    formulated to be satisfied when they take the value 0.0, and all constraints are\n",
    "    equality constraints.\n",
    "    \"\"\"\n",
    "    *_, elevator, aileron, rudder = y\n",
    "    c1 = elevator + 0.05  # the nose of our aircraft points slightly down\n",
    "    c2 = aileron - 0.1  # we're turning left - right wing goes up\n",
    "    c3 = rudder  # we're not correcting the yaw here\n",
    "    return jnp.array([c1, c2, c3])"
   ]
  },
  {
   "cell_type": "code",
   "execution_count": 5,
   "metadata": {},
   "outputs": [
    {
     "data": {
      "text/plain": [
       "(Array(0.02302458, dtype=float64), Array([0., 0., 0.], dtype=float64))"
      ]
     },
     "execution_count": 5,
     "metadata": {},
     "output_type": "execute_result"
    }
   ],
   "source": [
    "y0 = jnp.array([0.0, 0.0, 0.0, 0.0, 0.0, -0.05, 0.1, 0.0])\n",
    "aircraftb(y0, linear_terms), constraintb(y0)"
   ]
  },
  {
   "cell_type": "code",
   "execution_count": 6,
   "metadata": {},
   "outputs": [],
   "source": [
    "hessian = jax.hessian(aircraftb)(y0, linear_terms)"
   ]
  },
  {
   "cell_type": "code",
   "execution_count": 7,
   "metadata": {},
   "outputs": [],
   "source": [
    "jac = jax.jacfwd(constraintb)(y0)"
   ]
  },
  {
   "cell_type": "code",
   "execution_count": 8,
   "metadata": {},
   "outputs": [
    {
     "data": {
      "text/plain": [
       "(Array([[ 3.09369860e-02,  5.95390720e-03,  1.70025700e-03,\n",
       "          2.89247600e-04,  7.90780210e-02,  0.00000000e+00,\n",
       "          3.60495096e-01,  6.00702000e-02],\n",
       "        [ 5.95390720e-03,  3.97123600e-03,  2.69640000e-05,\n",
       "         -5.38946214e-01, -2.13786000e-03,  5.56663800e-02,\n",
       "         -9.80762000e-03, -1.63496000e-03],\n",
       "        [ 1.70025700e-03,  2.69640000e-05,  2.14220200e-03,\n",
       "         -7.69027400e-02, -4.79038000e-03,  0.00000000e+00,\n",
       "         -1.11020900e-02,  1.13442000e-03],\n",
       "        [ 2.89247600e-04, -5.38946214e-01, -7.69027400e-02,\n",
       "          1.05540500e+00,  6.27321040e+00,  1.30251900e+00,\n",
       "          0.00000000e+00,  0.00000000e+00],\n",
       "        [ 7.90780210e-02, -2.13786000e-03, -4.79038000e-03,\n",
       "          6.27321040e+00,  2.63974832e-01,  0.00000000e+00,\n",
       "          9.05242043e-01,  7.88238000e-02],\n",
       "        [ 0.00000000e+00,  5.56663800e-02,  0.00000000e+00,\n",
       "          1.30251900e+00,  0.00000000e+00,  1.60977025e+00,\n",
       "          0.00000000e+00,  0.00000000e+00],\n",
       "        [ 3.60495096e-01, -9.80762000e-03, -1.11020900e-02,\n",
       "          0.00000000e+00,  9.05242043e-01,  0.00000000e+00,\n",
       "          4.20247438e+00,  7.12273820e-01],\n",
       "        [ 6.00702000e-02, -1.63496000e-03,  1.13442000e-03,\n",
       "          0.00000000e+00,  7.88238000e-02,  0.00000000e+00,\n",
       "          7.12273820e-01,  2.01499400e-01]], dtype=float64),\n",
       " Array([[0., 0., 0., 0., 0., 1., 0., 0.],\n",
       "        [0., 0., 0., 0., 0., 0., 1., 0.],\n",
       "        [0., 0., 0., 0., 0., 0., 0., 1.]], dtype=float64))"
      ]
     },
     "execution_count": 8,
     "metadata": {},
     "output_type": "execute_result"
    }
   ],
   "source": [
    "hessian, jac"
   ]
  },
  {
   "cell_type": "code",
   "execution_count": 9,
   "metadata": {},
   "outputs": [
    {
     "data": {
      "text/plain": [
       "((8, 8), (3, 8))"
      ]
     },
     "execution_count": 9,
     "metadata": {},
     "output_type": "execute_result"
    }
   ],
   "source": [
    "hessian.shape, jac.shape"
   ]
  },
  {
   "cell_type": "code",
   "execution_count": 10,
   "metadata": {},
   "outputs": [
    {
     "data": {
      "text/plain": [
       "(Array([-1.11839747e+00,  6.42604588e-01,  2.55300852e-01, -2.94240591e-03,\n",
       "         6.92692565e-02,  4.85417182e-06, -7.06089182e-06, -8.73885995e-07],      dtype=float64),\n",
       " Array([ 0.04854172, -0.07060892, -0.00873886], dtype=float64))"
      ]
     },
     "execution_count": 10,
     "metadata": {},
     "output_type": "execute_result"
    }
   ],
   "source": [
    "def make_kkt(hessian, jac, input_structure):\n",
    "    hessian = lx.MatrixLinearOperator(hessian)\n",
    "    jac = lx.MatrixLinearOperator(jac)\n",
    "\n",
    "    def kkt(inputs):\n",
    "        y, dual = inputs\n",
    "        y_step = hessian.mv(y) + jac.transpose().mv(dual)\n",
    "        dual_step = jac.mv(y)\n",
    "        return y_step + 1e-2 * y, dual_step - 1e-4 * dual\n",
    "\n",
    "    return lx.FunctionLinearOperator(kkt, input_structure)\n",
    "\n",
    "\n",
    "initial_duals = jnp.zeros(3)\n",
    "out_structure = jax.eval_shape(lambda: (y0, initial_duals))\n",
    "kkt_operator = make_kkt(hessian, jac, out_structure)\n",
    "\n",
    "\n",
    "def make_vector(y, dual, linear_terms):\n",
    "    grad_ = jax.grad(aircraftb)(y, linear_terms)\n",
    "    dual_ = jac.T @ dual\n",
    "    return (-grad_ - dual_, -constraintb(y))\n",
    "\n",
    "\n",
    "vector = make_vector(y0, initial_duals, linear_terms)\n",
    "\n",
    "solution = lx.linear_solve(kkt_operator, vector, solver=lx.SVD())\n",
    "solution.value"
   ]
  },
  {
   "cell_type": "code",
   "execution_count": 11,
   "metadata": {},
   "outputs": [],
   "source": [
    "# eqx.partition(kkt_operator, eqx.is_array)"
   ]
  },
  {
   "cell_type": "code",
   "execution_count": 12,
   "metadata": {},
   "outputs": [],
   "source": [
    "from optimistix import RESULTS\n",
    "from optimistix._misc import filter_cond, tree_full_like\n",
    "\n",
    "\n",
    "def _regularise(operator, upper_delta, lower_delta):\n",
    "    (primal_struct, dual_struct), _ = operator.input_structure\n",
    "    values = (\n",
    "        tree_full_like(primal_struct, upper_delta),\n",
    "        tree_full_like(dual_struct, -lower_delta),\n",
    "    )\n",
    "    regulariser = lx.DiagonalLinearOperator(values)\n",
    "    return operator + regulariser\n",
    "\n",
    "\n",
    "def correct_inertia(kkt_operator):\n",
    "    \"\"\"Perform adaptive inertia correction of the KKT operator. Regularises the upper\n",
    "    left and lower right blocks of the operator, where the lower right is regularised\n",
    "    only if zero eigenvalues are present in the first factorisation of the operator.\n",
    "    The upper left block (Hessian of the Lagrangian) is regularised with progressively\n",
    "    larger values, until the inertia is corrected or a tolerance has been exceeded.\n",
    "    \"\"\"\n",
    "    (primal_struct, dual_struct), _ = kkt_operator.input_structure\n",
    "    num_primals = primal_struct.size\n",
    "    num_duals = dual_struct.size\n",
    "\n",
    "    eigenvalues = jnp.linalg.eigvalsh(kkt_operator.as_matrix())\n",
    "    check_positives = jnp.sum(eigenvalues > 0.0) < num_primals\n",
    "    check_negatives = jnp.sum(eigenvalues < 0.0) < num_duals\n",
    "    requires_correction = check_positives | check_negatives\n",
    "    upper_delta = jnp.where(requires_correction, 1e-4, 0.0)\n",
    "\n",
    "    has_zeros = jnp.any(eigenvalues == 0.0)\n",
    "    lower_delta = jnp.where(has_zeros, 1e-2, 0.0)  # Regularise lower right\n",
    "\n",
    "    def correct(args):\n",
    "        upper_delta, lower_delta = args\n",
    "\n",
    "        def cond_fun(carry):\n",
    "            upper_delta, lower_delta = carry\n",
    "            corrected_operator = _regularise(kkt_operator, upper_delta, lower_delta)\n",
    "\n",
    "            eigenvalues = jnp.linalg.eigvalsh(corrected_operator.as_matrix())\n",
    "            check_positives = jnp.sum(eigenvalues > 0.0) < num_primals\n",
    "            check_negatives = jnp.sum(eigenvalues < 0.0) < num_duals\n",
    "            requires_correction = check_positives | check_negatives\n",
    "            return requires_correction\n",
    "\n",
    "        def body_fun(carry):\n",
    "            upper_delta, lower_delta = carry\n",
    "            return upper_delta * 8.0, lower_delta  # TODO schedule\n",
    "\n",
    "        carry = (upper_delta, lower_delta)\n",
    "        final_carry = eqxi.while_loop(\n",
    "            cond_fun, body_fun, carry, kind=\"lax\", max_steps=10\n",
    "        )\n",
    "        # TODO: RESULT: check if regularisation / factorisation has failed\n",
    "        upper_delta, lower_delta = final_carry\n",
    "        upper_delta = 1e3\n",
    "        corrected_operator = _regularise(kkt_operator, upper_delta, lower_delta)\n",
    "        return corrected_operator, RESULTS.successful\n",
    "\n",
    "    def keep(args):\n",
    "        del args  # No regularisation needed\n",
    "        return _regularise(kkt_operator, 0.0, 0.0), RESULTS.successful\n",
    "\n",
    "    args = (upper_delta, lower_delta)\n",
    "    corrected_operator, result = filter_cond(requires_correction, correct, keep, args)\n",
    "\n",
    "    return corrected_operator"
   ]
  },
  {
   "cell_type": "code",
   "execution_count": 13,
   "metadata": {},
   "outputs": [],
   "source": [
    "count = 0\n",
    "\n",
    "y = y0\n",
    "recorded_ys = [y]\n",
    "initial_duals = jnp.zeros(3)\n",
    "duals = initial_duals\n",
    "recorded_duals = [duals]\n",
    "input_structure = jax.eval_shape(lambda: (y0, initial_duals))\n",
    "\n",
    "singular_values = []\n",
    "num_steps = 400\n",
    "while count < num_steps - 1:\n",
    "    hessian = jax.hessian(aircraftb)(y, linear_terms)\n",
    "    jac = jax.jacfwd(constraintb)(y)\n",
    "    kkt_operator = make_kkt(hessian, jac, input_structure)\n",
    "    kkt_operator = correct_inertia(kkt_operator)\n",
    "\n",
    "    vector = make_vector(y, duals, linear_terms)\n",
    "    solution = lx.linear_solve(kkt_operator, vector, solver=lx.SVD())\n",
    "    svd, result = solution.state\n",
    "    u, s, v = svd\n",
    "    singular_values.append(s)\n",
    "\n",
    "    y, duals = jtu.tree_map(lambda x: 0.25 * x, solution.value)\n",
    "    recorded_ys.append(y)\n",
    "    recorded_duals.append(duals)\n",
    "\n",
    "    count += 1\n",
    "\n",
    "recorded_ys = jnp.array(recorded_ys)\n",
    "recorded_duals = jnp.array(recorded_duals)\n",
    "\n",
    "singular_values = jnp.array(singular_values)\n",
    "\n",
    "function_values = jax.vmap(aircraftb, in_axes=(0, None))(recorded_ys, linear_terms)\n",
    "constraint_values = jax.vmap(constraintb)(recorded_ys)"
   ]
  },
  {
   "cell_type": "code",
   "execution_count": 14,
   "metadata": {},
   "outputs": [
    {
     "data": {
      "text/plain": [
       "Text(0, 0.5, 'Constraint values')"
      ]
     },
     "execution_count": 14,
     "metadata": {},
     "output_type": "execute_result"
    },
    {
     "data": {
      "image/png": "[encoded data removed]",
      "text/plain": [
       "<Figure size 1000x700 with 2 Axes>"
      ]
     },
     "metadata": {},
     "output_type": "display_data"
    }
   ],
   "source": [
    "fig, [ax1, ax2] = plt.subplots(2, 1, figsize=(10, 7))\n",
    "\n",
    "ax1.plot(jnp.arange(num_steps), function_values, label=\"log(L2 force)\")\n",
    "ax1.set_xlabel(\"Iteration\")\n",
    "ax1.set_ylabel(\"L2 force\")\n",
    "\n",
    "ax2.plot(jnp.arange(num_steps), constraint_values, label=\"Constraints\")\n",
    "ax2.set_xlabel(\"Iteration\")\n",
    "ax2.set_ylabel(\"Constraint values\")"
   ]
  },
  {
   "cell_type": "code",
   "execution_count": 15,
   "metadata": {},
   "outputs": [
    {
     "data": {
      "text/plain": [
       "Text(0.5, 1.0, 'Dual values')"
      ]
     },
     "execution_count": 15,
     "metadata": {},
     "output_type": "execute_result"
    },
    {
     "data": {
      "image/png": "[encoded data removed]",
      "text/plain": [
       "<Figure size 1400x500 with 2 Axes>"
      ]
     },
     "metadata": {},
     "output_type": "display_data"
    }
   ],
   "source": [
    "fig, [ax1, ax2] = plt.subplots(1, 2, figsize=(14, 5))\n",
    "\n",
    "labels = [\"x1\", \"x2\", \"x3\", \"x4\", \"x5\", \"elevator\", \"aileron\", \"rudder\"]\n",
    "df = pd.DataFrame(dict(zip(labels, recorded_ys.T)))\n",
    "df.plot(ax=ax1)\n",
    "ax1.set_xlabel(\"Iteration\")\n",
    "ax1.set_ylabel(\"Value\")\n",
    "ax1.set_title(\"Primal values\")\n",
    "\n",
    "df = pd.DataFrame(dict(zip([\"elevator\", \"aileron\", \"rudder\"], recorded_duals.T)))\n",
    "df.plot(ax=ax2)\n",
    "ax2.set_xlabel(\"Iteration\")\n",
    "ax2.set_ylabel(\"Value\")\n",
    "ax2.set_title(\"Dual values\")"
   ]
  },
  {
   "cell_type": "code",
   "execution_count": null,
   "metadata": {},
   "outputs": [
    {
     "data": {
      "image/png": "[encoded data removed]",
      "text/plain": [
       "<Figure size 1000x400 with 1 Axes>"
      ]
     },
     "metadata": {},
     "output_type": "display_data"
    }
   ],
   "source": [
    "fig, ax = plt.subplots(1, 1, figsize=(10, 4))\n",
    "labels = [f\"SV {i}\" for i in range(1, 12)]\n",
    "pd.DataFrame(dict(zip(labels, jnp.log(singular_values.T)))).plot(ax=ax)\n",
    "# labels = [f\"EV {i}\" for i in range(1, 12)]\n",
    "\n",
    "ax.set_xlabel(\"Iteration\")\n",
    "ax.set_ylabel(\"log(Singular value)\")\n",
    "ax.set_title(\"Singular values of the KKT matrix\")\n",
    "\n",
    "fig.tight_layout()"
   ]
  }
 ],
 "metadata": {
  "kernelspec": {
   "display_name": ".venv",
   "language": "python",
   "name": "python3"
  },
  "language_info": {
   "codemirror_mode": {
    "name": "ipython",
    "version": 3
   },
   "file_extension": ".py",
   "mimetype": "text/x-python",
   "name": "python",
   "nbconvert_exporter": "python",
   "pygments_lexer": "ipython3",
   "version": "3.12.9"
  }
 },
 "nbformat": 4,
 "nbformat_minor": 2
}
