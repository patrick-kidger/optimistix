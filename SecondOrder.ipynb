{
 "cells": [
  {
   "cell_type": "code",
   "execution_count": 1,
   "metadata": {},
   "outputs": [],
   "source": [
    "import math\n",
    "\n",
    "import jax\n",
    "import jax.numpy as jnp\n",
    "import matplotlib.pyplot as plt\n",
    "\n",
    "\n",
    "jax.config.update(\"jax_enable_x64\", True)"
   ]
  },
  {
   "cell_type": "markdown",
   "metadata": {},
   "source": [
    "Try a very simple problem formulation. \n",
    "\n",
    "$q(x) = (x_1 + 1)^2 + (x_2 + 1)^2 = x_1^2 + 2 x_1 + 1 + x_2^2 + 2 x_2 + 1 = x^T \\mathbb{I}_2 x + [2, 2]^T x + 2$\n",
    "\n",
    "\n",
    "With a symmetric paraboloid, the Hessian of the target function is always a (scaled) identity.\n",
    "\n",
    "$\\min x^T \\mathbb{I}_2 x + c^Tx + 2 \\\\ s.t. \\quad x_1^2 + x_2^2 = 1 $\n",
    "\n",
    "The constraint Jacobian is\n",
    "\n",
    "$[2 x_1, 2 x_2]$\n",
    "\n",
    "And the Hessian is $2 \\cdot \\mathbb{I}_2$.\n",
    "\n",
    "At $(1, 0)$, the gradient $\\nabla f$ is $ 2 \\cdot \\mathbb{I}_2 \\cdot [1, 0]^T + [2, 2]^T = [4, 2]^T$. \n",
    "The constraint evaluation is satisfied, so we have that $c(x) = 1$.\n",
    "The constraint Jacobian at this point is $[2, 0]$.\n",
    "\n",
    "With the KKT system (for a quadratic problem)\n",
    "\n",
    "$$\n",
    "\\begin{bmatrix}\n",
    "H & -A^T \\\\\n",
    "A & 0\n",
    "\\end{bmatrix}\n",
    "\\begin{bmatrix}\n",
    "\\Delta x \\\\\n",
    "\\Delta \\lambda\n",
    "\\end{bmatrix}\n",
    "=\n",
    "\\begin{bmatrix}\n",
    "-\\nabla f + A^T \\lambda \\\\\n",
    "b - A(x)\n",
    "\\end{bmatrix}\n",
    "$$\n",
    "\n",
    "when the constraints are nonlinear, we still have to approximate them linearly, in order to construct the KKT system.\n",
    "However, we can use the nonlinear expression on the right-hand-side to get\n",
    "\n",
    "$$\n",
    "\\begin{bmatrix}\n",
    "H & -A^T \\\\\n",
    "A & 0\n",
    "\\end{bmatrix}\n",
    "\\begin{bmatrix}\n",
    "\\Delta x \\\\\n",
    "\\Delta \\lambda\n",
    "\\end{bmatrix}\n",
    "=\n",
    "\\begin{bmatrix}\n",
    "-\\nabla f + A^T \\lambda \\\\\n",
    "b - c(x)\n",
    "\\end{bmatrix}\n",
    "$$\n",
    "\n",
    "Substituting the known values, we get the system \n",
    "\n",
    "$$\n",
    "\\begin{bmatrix}\n",
    "2 & 0 & -2 \\\\\n",
    "0 & 2 & 0 \\\\\n",
    "2 & 0 & 0\n",
    "\\end{bmatrix}\n",
    "\\begin{bmatrix}\n",
    "\\Delta x_1 \\\\\n",
    "\\Delta x_2 \\\\\n",
    "\\Delta \\lambda\n",
    "\\end{bmatrix}\n",
    "=\n",
    "\\begin{bmatrix}\n",
    "-4 + 2 \\cdot \\lambda \\\\\n",
    "-2 + 0 \\cdot \\lambda\\\\\n",
    "1 - 1\n",
    "\\end{bmatrix}\n",
    "=  \n",
    "\\begin{bmatrix}\n",
    "-4 + 2 \\cdot \\lambda \\\\\n",
    "-2 \\\\\n",
    "0 \n",
    "\\end{bmatrix}\n",
    "$$\n",
    "\n",
    "which allows us to cancel out the factor of $2$.\n",
    "\n",
    "$$\n",
    "\\begin{bmatrix}\n",
    "1 & 0 & -1 \\\\\n",
    "0 & 1 & 0 \\\\\n",
    "1 & 0 & 0\n",
    "\\end{bmatrix}\n",
    "\\begin{bmatrix}\n",
    "\\Delta x_1 \\\\\n",
    "\\Delta x_2 \\\\\n",
    "\\Delta \\lambda\n",
    "\\end{bmatrix}\n",
    "=  \n",
    "\\begin{bmatrix}\n",
    "-2 + \\lambda \\\\\n",
    "-1 \\\\\n",
    "0 \n",
    "\\end{bmatrix}\n",
    "$$\n",
    "\n",
    "Now suppose that the dual variables have not yet converged, and we don't know the value of the multiplier $\\lambda$.\n",
    "We can still solve this by Gauss-Jordan to get\n",
    "\n",
    "$$ \n",
    "\\begin{bmatrix}\n",
    "0 & 0 & 1 \\\\\n",
    "0 & 1 & 0 \\\\\n",
    "1 & 0 & 0\n",
    "\\end{bmatrix}\n",
    "\\begin{bmatrix}\n",
    "\\Delta x_1 \\\\\n",
    "\\Delta x_2 \\\\\n",
    "\\Delta \\lambda\n",
    "\\end{bmatrix}\n",
    "= \n",
    "\\begin{bmatrix}\n",
    "2 - \\lambda \\\\\n",
    "-1 \\\\\n",
    "0 \n",
    "\\end{bmatrix}\n",
    "$$\n",
    "\n",
    "which we could re-order, but don't have to. The solution is \n",
    "\n",
    "$\\Delta x_1 = 2 - \\lambda; \\, \\Delta x_2 = -1; \\, \\Delta \\lambda = 0$\n",
    "\n",
    "The direction therefore depends on the value of the multiplier. Suppose that we have that $\\lambda = 2$, in which case we take a unit step in $-x_2$.\n",
    "If we took a full step, we would immediately leave the circle.\n",
    "To compute the second order correction in IPOPT, we add the constraint evaluation at the proposed next (feasible) step.\n",
    "\n",
    "At $[1, 0]^T + [0, -1]^T = [1, -1]^T$ the constraint value is $2$, when it should be $1$. So the updated linear system is\n",
    "\n",
    "$$\n",
    "\\begin{bmatrix}\n",
    "2 & 0 & -2 \\\\\n",
    "0 & 2 & 0 \\\\\n",
    "2 & 0 & 0\n",
    "\\end{bmatrix}\n",
    "\\begin{bmatrix}\n",
    "\\Delta x_1 \\\\\n",
    "\\Delta x_2 \\\\\n",
    "\\Delta \\lambda\n",
    "\\end{bmatrix}\n",
    "=\n",
    "\\begin{bmatrix}\n",
    "-4 + 2 \\cdot \\lambda \\\\\n",
    "-2 + 0 \\cdot \\lambda\\\\\n",
    "1 - 1 - 2\n",
    "\\end{bmatrix}\n",
    "=  \n",
    "\\begin{bmatrix}\n",
    "-4 + 2 \\cdot \\lambda \\\\\n",
    "-2 \\\\\n",
    "-2\n",
    "\\end{bmatrix}\n",
    "$$\n",
    "\n",
    "here, we can still factor out $2$ and get\n",
    "\n",
    "$$\n",
    "\\begin{bmatrix}\n",
    "1 & 0 & -1 \\\\\n",
    "0 & 1 & 0 \\\\\n",
    "1 & 0 & 0\n",
    "\\end{bmatrix}\n",
    "\\begin{bmatrix}\n",
    "\\Delta x_1 \\\\\n",
    "\\Delta x_2 \\\\\n",
    "\\Delta \\lambda\n",
    "\\end{bmatrix}\n",
    "=\n",
    "\\begin{bmatrix}\n",
    "-2 + \\lambda \\\\\n",
    "-1 \\\\\n",
    "-1\n",
    "\\end{bmatrix}\n",
    "$$\n",
    "\n",
    "which results in \n",
    "\n",
    "$$\n",
    "\\begin{bmatrix}\n",
    "0 & 0 & 1 \\\\\n",
    "0 & 1 & 0 \\\\\n",
    "1 & 0 & 0\n",
    "\\end{bmatrix}\n",
    "\\begin{bmatrix}\n",
    "\\Delta x_1 \\\\\n",
    "\\Delta x_2 \\\\\n",
    "\\Delta \\lambda\n",
    "\\end{bmatrix}\n",
    "=\n",
    "\\begin{bmatrix}\n",
    "1 - \\lambda \\\\\n",
    "-1 \\\\\n",
    "-1\n",
    "\\end{bmatrix}\n",
    "$$\n",
    "\n",
    "Suppose that we still have $\\lambda = 2$, then we get\n",
    "\n",
    "$\\Delta x_1 = 1 - 2 = -1; \\, \\Delta x_2 = -1; \\, \\Delta \\lambda = -1$\n"
   ]
  },
  {
   "cell_type": "code",
   "execution_count": 2,
   "metadata": {},
   "outputs": [],
   "source": [
    "def paraboloid(x, y):\n",
    "    return 0.5 * (x + 1) ** 2 + 0.5 * (y + 1) ** 2\n",
    "\n",
    "\n",
    "# Constraint defined with inequalities -> what does that mean for the linear\n",
    "# independence of the constraint Jacobian? This is how it would ordinarily be\n",
    "# implemented, but it seems as though that might not be what is happening in IPOPT.\n",
    "def constraint(x, y):\n",
    "    c1 = x**2 + y**2 - 1  # One sided: circle with radius >= 1\n",
    "    # c2 = 1 - x**2 - y**2  # One sided: circle with radius <= 1\n",
    "    return c1  # , c2"
   ]
  },
  {
   "cell_type": "code",
   "execution_count": 3,
   "metadata": {},
   "outputs": [],
   "source": [
    "def make_plot():\n",
    "    # Make contour plot\n",
    "    limits = (-2.3, 3)\n",
    "    x = jnp.linspace(*limits, 100)\n",
    "    y = jnp.linspace(*limits, 100)\n",
    "    X, Y = jnp.meshgrid(x, y)\n",
    "    Z = paraboloid(X, Y)\n",
    "\n",
    "    fig, ax = plt.subplots(1, 1, figsize=(5, 5))\n",
    "    ax.contourf(X, Y, Z, levels=20, alpha=0.5, cmap=\"Grays\", vmin=0, vmax=10)\n",
    "\n",
    "    # Add constraint: circle centered at the origin\n",
    "    circle = plt.Circle((0, 0), 1, color=\"olive\", fill=False, label=\"Constraint\")\n",
    "    ax.add_patch(circle)\n",
    "\n",
    "    # Layouting\n",
    "    ticks = jnp.linspace(*[math.floor(l) for l in limits], 5)\n",
    "    ax.set_xticks(ticks)\n",
    "    ax.set_yticks(ticks)\n",
    "    ax.set_xlim(limits)\n",
    "    ax.set_ylim(limits)\n",
    "\n",
    "    ax.set_xlabel(\"x\")\n",
    "    ax.set_ylabel(\"y\")\n",
    "    ax.set_title(\"Paraboloid with constraint\")\n",
    "\n",
    "    return fig, ax"
   ]
  },
  {
   "cell_type": "code",
   "execution_count": 4,
   "metadata": {},
   "outputs": [
    {
     "name": "stdout",
     "output_type": "stream",
     "text": [
      "(Array(2., dtype=float64), Array(0., dtype=float64))\n"
     ]
    },
    {
     "data": {
      "image/png": "[encoded data removed]",
      "text/plain": [
       "<Figure size 400x350 with 1 Axes>"
      ]
     },
     "metadata": {},
     "output_type": "display_data"
    }
   ],
   "source": [
    "fig, ax = make_plot()\n",
    "\n",
    "# Add current point\n",
    "current_point = jnp.array([1.0, 0.0])\n",
    "ax.plot(*current_point, \"o\", color=\"firebrick\", label=\"Current point\")\n",
    "\n",
    "# Add gradient of current point\n",
    "gradient = jax.grad(paraboloid, argnums=(0, 1))(*current_point)\n",
    "descent = -jnp.asarray(gradient)\n",
    "tip = current_point + 1.25 * descent\n",
    "props = dict(arrowstyle=\"<-\", color=\"firebrick\")\n",
    "ax.annotate(\"grad f\", xytext=tip, xy=current_point, arrowprops=props)\n",
    "\n",
    "# Add constraint Jacobian\n",
    "constraint_jacobian = jax.jacfwd(constraint, argnums=(0, 1))(*current_point)\n",
    "tip = current_point + 0.6 * jnp.asarray(constraint_jacobian)\n",
    "props = dict(arrowstyle=\"<-\", color=\"darkgreen\")\n",
    "ax.annotate(\"A\", xytext=tip, xy=current_point, arrowprops=props)\n",
    "print(constraint_jacobian)\n",
    "\n",
    "# Proposed step if lambda = 2\n",
    "step = jnp.array([0, -1.0])\n",
    "tip = current_point + 1.25 * step\n",
    "props = dict(arrowstyle=\"<-\", color=\"blue\", relpos=(0.0, 0.5))\n",
    "ax.annotate(\"step\", xytext=tip, xy=current_point, arrowprops=props)\n",
    "\n",
    "# Corrected step\n",
    "corrected_step = jnp.array([-1.0, -1])\n",
    "tip = current_point + 1.28 * corrected_step\n",
    "props = dict(arrowstyle=\"<-\", color=\"purple\", relpos=(0.0, 0.5))\n",
    "ax.annotate(\"corr\", xytext=tip, xy=current_point, arrowprops=props)\n",
    "\n",
    "# Finishing touches\n",
    "ax.legend()\n",
    "ax.set_ylim(-2.3, 2.3)\n",
    "# fig.suptitle(\"Illustration of second-order correction\")\n",
    "fig.set_size_inches(4, 3.5)\n",
    "fig.tight_layout()\n",
    "fig.savefig(\"second_order_correction.png\")"
   ]
  },
  {
   "cell_type": "markdown",
   "metadata": {},
   "source": [
    "So during the second-order correction, the magnitude of the step can actually change.\n",
    "Including the scalar (max feasible) step size seems to be an implementation detail - not sure if this is even required.\n",
    "By modifying just the constraint portion of the right-hand-side, we essentially rotate through descent directions.\n",
    "This has to be done in a while loop, since the constraint violation that we are adding to the right-hand side should decrease (superlinearly if the problem is reasonably well behaved). This allows us to integrate the change a measure of nonlinearity of the constraint function into the KKT system.\n",
    "\n",
    "I actually like it. It will be hard to implement, but I do like it."
   ]
  },
  {
   "cell_type": "code",
   "execution_count": 5,
   "metadata": {},
   "outputs": [],
   "source": [
    "# Two notes: we need to fail much more gracefully when it comes to typing of constraint\n",
    "# functions!\n",
    "# I should test-drive the whole library with mis-specified constraints to figure out\n",
    "# where on the spectrum from terrifying to useful our errata land.\n",
    "\n",
    "# More urgently, I apparently get an error when no bounds are specified with the\n",
    "# IPOPTLike solver, and that is the last thing that should be happening."
   ]
  },
  {
   "cell_type": "code",
   "execution_count": 6,
   "metadata": {},
   "outputs": [
    {
     "name": "stdout",
     "output_type": "stream",
     "text": [
      "final iterate: (Array([-0.70715518, -0.70705842], dtype=float64), (Array(0.20568542, dtype=float64), None), (Array([0.0010761 , 0.00107609], dtype=float64), Array([0.00093398, 0.00093393], dtype=float64)))\n"
     ]
    },
    {
     "data": {
      "text/plain": [
       "(Array([-0.70698921, -0.70722456], dtype=float64), Array(False, dtype=bool))"
      ]
     },
     "execution_count": 6,
     "metadata": {},
     "output_type": "execute_result"
    }
   ],
   "source": [
    "def parabolic_objective(y, args):\n",
    "    del args\n",
    "    x1, x2 = y\n",
    "    return 0.5 * (x1 + 1) ** 2 + 0.5 * (x2 + 1) ** 2\n",
    "\n",
    "\n",
    "def constraint(y):\n",
    "    x1, x2 = y\n",
    "    return x1**2 + x2**2 - 1, None\n",
    "\n",
    "\n",
    "import optimistix as optx\n",
    "\n",
    "\n",
    "solver = optx.IPOPTLike(rtol=1e-3, atol=1e-6)\n",
    "y0 = jnp.array([1.0, 0.0])\n",
    "bounds = (jnp.array([-10.0, -10.0]), jnp.array([10.0, 10.0]))\n",
    "solution = optx.minimise(\n",
    "    parabolic_objective,\n",
    "    solver,\n",
    "    y0,\n",
    "    constraint=constraint,\n",
    "    bounds=bounds,\n",
    "    max_steps=10,\n",
    "    throw=False,\n",
    ")\n",
    "\n",
    "solution.value, solution.result == optx.RESULTS.successful"
   ]
  },
  {
   "cell_type": "code",
   "execution_count": 7,
   "metadata": {},
   "outputs": [
    {
     "data": {
      "text/plain": [
       "Array([0.29301079, 0.29277544], dtype=float64)"
      ]
     },
     "execution_count": 7,
     "metadata": {},
     "output_type": "execute_result"
    }
   ],
   "source": [
    "jax.grad(parabolic_objective)(solution.value, None)"
   ]
  },
  {
   "cell_type": "code",
   "execution_count": 8,
   "metadata": {},
   "outputs": [
    {
     "data": {
      "text/plain": [
       "Array([-0.29284452, -0.292942  ], dtype=float64)"
      ]
     },
     "execution_count": 8,
     "metadata": {},
     "output_type": "execute_result"
    }
   ],
   "source": [
    "equality_jac, inequality_jac = jax.jacfwd(constraint)(solution.value)\n",
    "\n",
    "0.20710678 * equality_jac"
   ]
  },
  {
   "cell_type": "code",
   "execution_count": 9,
   "metadata": {},
   "outputs": [],
   "source": [
    "trajectory = jnp.array(\n",
    "    [\n",
    "        [1.0, 0.0],\n",
    "        [1.0, -1.0],\n",
    "        [-0.25, -1.75],\n",
    "        [-1.005, -1.035],\n",
    "        [-0.75886036, -0.75166216],\n",
    "        [-0.70726875, -0.71004546],\n",
    "        [-0.70768477, -0.70653715],\n",
    "        [-0.70686953, -0.70734488],\n",
    "        [-0.7072053, -0.7070084],\n",
    "        [-0.70706601, -0.70714757],\n",
    "    ]\n",
    ")"
   ]
  },
  {
   "cell_type": "code",
   "execution_count": 10,
   "metadata": {},
   "outputs": [
    {
     "data": {
      "text/plain": [
       "[<matplotlib.lines.Line2D at 0x126b23110>]"
      ]
     },
     "execution_count": 10,
     "metadata": {},
     "output_type": "execute_result"
    },
    {
     "data": {
      "image/png": "[encoded data removed]",
      "text/plain": [
       "<Figure size 500x500 with 1 Axes>"
      ]
     },
     "metadata": {},
     "output_type": "display_data"
    }
   ],
   "source": [
    "fig, ax = plt.subplots(1, 1, figsize=(5, 5))\n",
    "\n",
    "iterations, _ = trajectory.shape\n",
    "ax.plot(jnp.arange(iterations), trajectory[:, 0], label=\"x1\")\n",
    "ax.plot(jnp.arange(iterations), trajectory[:, 1], label=\"x2\")"
   ]
  },
  {
   "cell_type": "code",
   "execution_count": 11,
   "metadata": {},
   "outputs": [
    {
     "data": {
      "text/plain": [
       "(Array(1.41038928, dtype=float64),\n",
       " (Array(-6.33239594e-09, dtype=float64), None))"
      ]
     },
     "execution_count": 11,
     "metadata": {},
     "output_type": "execute_result"
    }
   ],
   "source": [
    "rescued = jnp.array([0.66088046, -0.75049118])\n",
    "\n",
    "parabolic_objective(rescued, None), constraint(rescued)"
   ]
  },
  {
   "cell_type": "code",
   "execution_count": 12,
   "metadata": {},
   "outputs": [
    {
     "data": {
      "text/plain": [
       "(Array(2.5, dtype=float64), (Array(0., dtype=float64), None))"
      ]
     },
     "execution_count": 12,
     "metadata": {},
     "output_type": "execute_result"
    }
   ],
   "source": [
    "parabolic_objective(y0, None), constraint(y0)"
   ]
  },
  {
   "cell_type": "code",
   "execution_count": 13,
   "metadata": {},
   "outputs": [
    {
     "data": {
      "text/plain": [
       "(Array(2., dtype=float64), (Array(1., dtype=float64), None))"
      ]
     },
     "execution_count": 13,
     "metadata": {},
     "output_type": "execute_result"
    }
   ],
   "source": [
    "intermediate = jnp.array([1, -1.0])\n",
    "\n",
    "parabolic_objective(intermediate, None), constraint(intermediate)"
   ]
  },
  {
   "cell_type": "markdown",
   "metadata": {},
   "source": [
    "At the rescued point, the parabolic objective has a better value than at any previously accepted point (counting the start), although the constraint function has a slightly worse value.\n",
    "\n",
    "I wonder why we we can't move on from this point - could it be that this is because we have seen better values for the target function, even though they had much higher constraint violations? And also have seen one point without any constraint violation? \n",
    "\n",
    "Because the restored point sure seems good. It is on the circle, or very near it.\n",
    "\n",
    "With an OR gate for the filter, we might never accept such a restored step - and it running into such a situation may be as easy as taking a bad first step."
   ]
  },
  {
   "cell_type": "code",
   "execution_count": 14,
   "metadata": {},
   "outputs": [
    {
     "data": {
      "text/plain": [
       "Array([1., 1.], dtype=float64)"
      ]
     },
     "execution_count": 14,
     "metadata": {},
     "output_type": "execute_result"
    }
   ],
   "source": [
    "A, _ = jax.jacfwd(constraint)(y0)\n",
    "\n",
    "-0.5 * A + jax.grad(parabolic_objective)(y0, None)"
   ]
  },
  {
   "cell_type": "code",
   "execution_count": 15,
   "metadata": {},
   "outputs": [],
   "source": [
    "# Ok, this is a problem. Because I have not figured out how to handle the updates to the\n",
    "# dual variables and hotfixed this part, I actually introduced a bug in the code - the\n",
    "# duals now get updated even thought the descent has not been queried at all.\n",
    "\n",
    "# Restoring feasibility also does not help on this trivial problem, it just puts us back\n",
    "# to where we already were.\n",
    "\n",
    "# So what happens here is that:\n",
    "# 1. We're using a not-quite correct Hessian - just the BFGS approximation to the target\n",
    "# function, without considering the constraints. This means that the Hessian of the\n",
    "# Lagrangian is not actually correct. The question here is what to do about this -\n",
    "# either to write up a quasi Newton approximation for the Hessian of the Lagrangian,\n",
    "# with an SLSQP-like update, or some other hotfix that treats the constraint Hessian as\n",
    "# an additive thing. This might contribute to getting such a weird initial direction\n",
    "# here. (Check if I have accounted for this above.)\n",
    "# -> In the special case above, we have that Hess(f) = I, and Hess(c) = 2 I. So, if we\n",
    "# assume that these are additive, then we get that Hess(L) = 3 I.\n",
    "\n",
    "# 2. For whatever reason (figure out why), the first time we query the descent actually\n",
    "# returns an almost-nil step. The search does not seem to accept this step, except for\n",
    "# the first iteration (and why? Special case or actual improvement?). Since we don't get\n",
    "# any improvement, the search rejects all subsequent steps and then triggers a restore.\n",
    "# However, the restoration puts us back to the original point, since it is both closest\n",
    "# and feasible. (This does not match my analytic result above.)\n",
    "# 3. I need to think more carefully about special-casing the first step here. In this\n",
    "# case, I actually want to be able to trigger a second-order correction at the first\n",
    "# step too? The whole point of special-casing the first step is ensure that we get some\n",
    "# movement, I think?\n",
    "# 4. We get spurious updates to the duals since we do not update these via the\n",
    "# descent.step.\n",
    "\n",
    "# Next steps: figure out exactly what the descent computes, and why it does not match\n",
    "# what we have above (the analytic solution)\n",
    "# Make sure that it all makes sense - including the updates to the dual variables -\n",
    "# before adding any extra complexity with the second order correction. The latter will\n",
    "# include updated descent states, so everything else has to be in place before, I'm\n",
    "# afraid."
   ]
  }
 ],
 "metadata": {
  "kernelspec": {
   "display_name": ".venv",
   "language": "python",
   "name": "python3"
  },
  "language_info": {
   "codemirror_mode": {
    "name": "ipython",
    "version": 3
   },
   "file_extension": ".py",
   "mimetype": "text/x-python",
   "name": "python",
   "nbconvert_exporter": "python",
   "pygments_lexer": "ipython3",
   "version": "3.13.1"
  }
 },
 "nbformat": 4,
 "nbformat_minor": 2
}
